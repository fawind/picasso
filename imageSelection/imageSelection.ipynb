{
 "cells": [
  {
   "cell_type": "code",
   "execution_count": 6,
   "metadata": {
    "collapsed": false
   },
   "outputs": [],
   "source": [
    "import pandas as pd"
   ]
  },
  {
   "cell_type": "code",
   "execution_count": 7,
   "metadata": {
    "collapsed": false
   },
   "outputs": [
    {
     "data": {
      "text/html": [
       "<div>\n",
       "<table border=\"1\" class=\"dataframe\">\n",
       "  <thead>\n",
       "    <tr style=\"text-align: right;\">\n",
       "      <th></th>\n",
       "      <th>artistContentId</th>\n",
       "      <th>artistName</th>\n",
       "      <th>completitionYear</th>\n",
       "      <th>contentId</th>\n",
       "      <th>height</th>\n",
       "      <th>image</th>\n",
       "      <th>title</th>\n",
       "      <th>width</th>\n",
       "      <th>yearAsString</th>\n",
       "    </tr>\n",
       "  </thead>\n",
       "  <tbody>\n",
       "    <tr>\n",
       "      <th>0</th>\n",
       "      <td>225091</td>\n",
       "      <td>Leonardo da Vinci</td>\n",
       "      <td>1504.0</td>\n",
       "      <td>225189</td>\n",
       "      <td>4289</td>\n",
       "      <td>https://uploads7.wikiart.org/images/leonardo-d...</td>\n",
       "      <td>Mona Lisa</td>\n",
       "      <td>2835</td>\n",
       "      <td>1504.0</td>\n",
       "    </tr>\n",
       "    <tr>\n",
       "      <th>1</th>\n",
       "      <td>204915</td>\n",
       "      <td>Vincent van Gogh</td>\n",
       "      <td>1889.0</td>\n",
       "      <td>207190</td>\n",
       "      <td>1600</td>\n",
       "      <td>https://uploads3.wikiart.org/images/vincent-va...</td>\n",
       "      <td>The Starry Night</td>\n",
       "      <td>2560</td>\n",
       "      <td>1889.0</td>\n",
       "    </tr>\n",
       "    <tr>\n",
       "      <th>2</th>\n",
       "      <td>220740</td>\n",
       "      <td>Salvador Dali</td>\n",
       "      <td>1931.0</td>\n",
       "      <td>221654</td>\n",
       "      <td>1600</td>\n",
       "      <td>https://uploads6.wikiart.org/images/salvador-d...</td>\n",
       "      <td>The Persistence of Memory</td>\n",
       "      <td>2105</td>\n",
       "      <td>1931.0</td>\n",
       "    </tr>\n",
       "  </tbody>\n",
       "</table>\n",
       "</div>"
      ],
      "text/plain": [
       "   artistContentId         artistName  completitionYear  contentId  height  \\\n",
       "0           225091  Leonardo da Vinci            1504.0     225189    4289   \n",
       "1           204915   Vincent van Gogh            1889.0     207190    1600   \n",
       "2           220740      Salvador Dali            1931.0     221654    1600   \n",
       "\n",
       "                                               image  \\\n",
       "0  https://uploads7.wikiart.org/images/leonardo-d...   \n",
       "1  https://uploads3.wikiart.org/images/vincent-va...   \n",
       "2  https://uploads6.wikiart.org/images/salvador-d...   \n",
       "\n",
       "                       title  width  yearAsString  \n",
       "0                  Mona Lisa   2835        1504.0  \n",
       "1           The Starry Night   2560        1889.0  \n",
       "2  The Persistence of Memory   2105        1931.0  "
      ]
     },
     "execution_count": 7,
     "metadata": {},
     "output_type": "execute_result"
    }
   ],
   "source": [
    "origin = pd.read_json('https://www.wikiart.org/en/App/Painting/MostViewedPaintings?randomSeed=123&json=2')\n",
    "origin.head(3)"
   ]
  },
  {
   "cell_type": "code",
   "execution_count": 8,
   "metadata": {
    "collapsed": false
   },
   "outputs": [
    {
     "name": "stdout",
     "output_type": "stream",
     "text": [
      "('Total images:', 600)\n",
      "('After filtering empty frames:', 600)\n",
      "('After filtering vertical images:', 292)\n",
      "('After filtering small:', 233)\n"
     ]
    }
   ],
   "source": [
    "print('Total images:', len(origin.index))\n",
    "filtered = origin\n",
    "filtered = filtered[filtered.image.str.contains('FRAME') == False]\n",
    "print('After filtering empty frames:', len(filtered.index))\n",
    "filtered = filtered[filtered.width >= filtered.height]\n",
    "print('After filtering vertical images:', len(filtered.index))\n",
    "filtered = filtered[filtered.width >= 1000]\n",
    "print('After filtering small:', len(filtered.index))"
   ]
  },
  {
   "cell_type": "code",
   "execution_count": 9,
   "metadata": {
    "collapsed": false
   },
   "outputs": [],
   "source": [
    "OUT_FILE = '../server/data/images.csv'\n",
    "filtered.image = filtered.image.str.replace('!Large.jpg', '')\n",
    "filtered.to_csv(OUT_FILE, sep=',', encoding='utf-8', index=False)"
   ]
  }
 ],
 "metadata": {
  "kernelspec": {
   "display_name": "Python 2",
   "language": "python",
   "name": "python2"
  },
  "language_info": {
   "codemirror_mode": {
    "name": "ipython",
    "version": 2
   },
   "file_extension": ".py",
   "mimetype": "text/x-python",
   "name": "python",
   "nbconvert_exporter": "python",
   "pygments_lexer": "ipython2",
   "version": "2.7.12"
  }
 },
 "nbformat": 4,
 "nbformat_minor": 0
}
