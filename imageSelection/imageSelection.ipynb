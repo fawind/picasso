{
 "cells": [
  {
   "cell_type": "code",
   "execution_count": 1,
   "metadata": {
    "collapsed": false,
    "deletable": true,
    "editable": true
   },
   "outputs": [],
   "source": [
    "import re\n",
    "import pandas as pd"
   ]
  },
  {
   "cell_type": "code",
   "execution_count": 2,
   "metadata": {
    "collapsed": true,
    "deletable": true,
    "editable": true
   },
   "outputs": [],
   "source": [
    "TOP_IMAGES_ENDPOINT = 'https://www.wikiart.org/en/App/Painting/MostViewedPaintings?randomSeed=123&json=2'"
   ]
  },
  {
   "cell_type": "code",
   "execution_count": 3,
   "metadata": {
    "collapsed": false,
    "deletable": true,
    "editable": true
   },
   "outputs": [
    {
     "data": {
      "text/html": [
       "<div>\n",
       "<table border=\"1\" class=\"dataframe\">\n",
       "  <thead>\n",
       "    <tr style=\"text-align: right;\">\n",
       "      <th></th>\n",
       "      <th>artistContentId</th>\n",
       "      <th>artistName</th>\n",
       "      <th>completitionYear</th>\n",
       "      <th>contentId</th>\n",
       "      <th>height</th>\n",
       "      <th>image</th>\n",
       "      <th>title</th>\n",
       "      <th>width</th>\n",
       "      <th>yearAsString</th>\n",
       "    </tr>\n",
       "  </thead>\n",
       "  <tbody>\n",
       "    <tr>\n",
       "      <th>0</th>\n",
       "      <td>225091</td>\n",
       "      <td>Leonardo da Vinci</td>\n",
       "      <td>1504.0</td>\n",
       "      <td>225189</td>\n",
       "      <td>4289</td>\n",
       "      <td>https://uploads7.wikiart.org/images/leonardo-d...</td>\n",
       "      <td>Mona Lisa</td>\n",
       "      <td>2835</td>\n",
       "      <td>1504.0</td>\n",
       "    </tr>\n",
       "    <tr>\n",
       "      <th>1</th>\n",
       "      <td>204915</td>\n",
       "      <td>Vincent van Gogh</td>\n",
       "      <td>1889.0</td>\n",
       "      <td>207190</td>\n",
       "      <td>599</td>\n",
       "      <td>https://uploads2.wikiart.org/00125/images/vinc...</td>\n",
       "      <td>The Starry Night</td>\n",
       "      <td>757</td>\n",
       "      <td>1889.0</td>\n",
       "    </tr>\n",
       "    <tr>\n",
       "      <th>2</th>\n",
       "      <td>220740</td>\n",
       "      <td>Salvador Dali</td>\n",
       "      <td>1931.0</td>\n",
       "      <td>221654</td>\n",
       "      <td>400</td>\n",
       "      <td>https://uploads.wikiart.org/Content/images/FRA...</td>\n",
       "      <td>The Persistence of Memory</td>\n",
       "      <td>480</td>\n",
       "      <td>1931.0</td>\n",
       "    </tr>\n",
       "  </tbody>\n",
       "</table>\n",
       "</div>"
      ],
      "text/plain": [
       "   artistContentId         artistName  completitionYear  contentId  height  \\\n",
       "0           225091  Leonardo da Vinci            1504.0     225189    4289   \n",
       "1           204915   Vincent van Gogh            1889.0     207190     599   \n",
       "2           220740      Salvador Dali            1931.0     221654     400   \n",
       "\n",
       "                                               image  \\\n",
       "0  https://uploads7.wikiart.org/images/leonardo-d...   \n",
       "1  https://uploads2.wikiart.org/00125/images/vinc...   \n",
       "2  https://uploads.wikiart.org/Content/images/FRA...   \n",
       "\n",
       "                       title  width  yearAsString  \n",
       "0                  Mona Lisa   2835        1504.0  \n",
       "1           The Starry Night    757        1889.0  \n",
       "2  The Persistence of Memory    480        1931.0  "
      ]
     },
     "execution_count": 3,
     "metadata": {},
     "output_type": "execute_result"
    }
   ],
   "source": [
    "images = pd.read_json(TOP_IMAGES_ENDPOINT)\n",
    "images.head(3)"
   ]
  },
  {
   "cell_type": "code",
   "execution_count": 4,
   "metadata": {
    "collapsed": false,
    "deletable": true,
    "editable": true
   },
   "outputs": [
    {
     "name": "stdout",
     "output_type": "stream",
     "text": [
      "Total images: 600\n",
      "After filtering empty frames: 423\n",
      "After filtering vertical images: 199\n"
     ]
    },
    {
     "data": {
      "text/html": [
       "<div>\n",
       "<table border=\"1\" class=\"dataframe\">\n",
       "  <thead>\n",
       "    <tr style=\"text-align: right;\">\n",
       "      <th></th>\n",
       "      <th>artistContentId</th>\n",
       "      <th>artistName</th>\n",
       "      <th>completitionYear</th>\n",
       "      <th>contentId</th>\n",
       "      <th>height</th>\n",
       "      <th>image</th>\n",
       "      <th>title</th>\n",
       "      <th>width</th>\n",
       "      <th>yearAsString</th>\n",
       "    </tr>\n",
       "  </thead>\n",
       "  <tbody>\n",
       "    <tr>\n",
       "      <th>1</th>\n",
       "      <td>204915</td>\n",
       "      <td>Vincent van Gogh</td>\n",
       "      <td>1889.0</td>\n",
       "      <td>207190</td>\n",
       "      <td>599</td>\n",
       "      <td>https://uploads2.wikiart.org/00125/images/vinc...</td>\n",
       "      <td>The Starry Night</td>\n",
       "      <td>757</td>\n",
       "      <td>1889.0</td>\n",
       "    </tr>\n",
       "    <tr>\n",
       "      <th>3</th>\n",
       "      <td>230332</td>\n",
       "      <td>Henri de Toulouse-Lautrec</td>\n",
       "      <td>1892.0</td>\n",
       "      <td>230453</td>\n",
       "      <td>815</td>\n",
       "      <td>https://uploads8.wikiart.org/images/henri-de-t...</td>\n",
       "      <td>In Bed The Kiss</td>\n",
       "      <td>1094</td>\n",
       "      <td>1892.0</td>\n",
       "    </tr>\n",
       "    <tr>\n",
       "      <th>4</th>\n",
       "      <td>188828</td>\n",
       "      <td>Sandro Botticelli</td>\n",
       "      <td>1485.0</td>\n",
       "      <td>189114</td>\n",
       "      <td>1067</td>\n",
       "      <td>https://uploads6.wikiart.org/images/sandro-bot...</td>\n",
       "      <td>The Birth of Venus</td>\n",
       "      <td>1600</td>\n",
       "      <td>1485.0</td>\n",
       "    </tr>\n",
       "  </tbody>\n",
       "</table>\n",
       "</div>"
      ],
      "text/plain": [
       "   artistContentId                 artistName  completitionYear  contentId  \\\n",
       "1           204915           Vincent van Gogh            1889.0     207190   \n",
       "3           230332  Henri de Toulouse-Lautrec            1892.0     230453   \n",
       "4           188828          Sandro Botticelli            1485.0     189114   \n",
       "\n",
       "   height                                              image  \\\n",
       "1     599  https://uploads2.wikiart.org/00125/images/vinc...   \n",
       "3     815  https://uploads8.wikiart.org/images/henri-de-t...   \n",
       "4    1067  https://uploads6.wikiart.org/images/sandro-bot...   \n",
       "\n",
       "                title  width  yearAsString  \n",
       "1    The Starry Night    757        1889.0  \n",
       "3     In Bed The Kiss   1094        1892.0  \n",
       "4  The Birth of Venus   1600        1485.0  "
      ]
     },
     "execution_count": 4,
     "metadata": {},
     "output_type": "execute_result"
    }
   ],
   "source": [
    "print('Total images:', len(images.index))\n",
    "\n",
    "images = images[images.image.str.contains('FRAME') == False]\n",
    "print('After filtering empty frames:', len(images.index))\n",
    "\n",
    "images = images[images.width >= images.height]\n",
    "print('After filtering vertical images:', len(images.index))\n",
    "\n",
    "images.head(3)"
   ]
  },
  {
   "cell_type": "code",
   "execution_count": 5,
   "metadata": {
    "collapsed": false,
    "deletable": true,
    "editable": true
   },
   "outputs": [],
   "source": [
    "image_id_re = re.compile(r'(\\/images\\/)(?P<image_id>.*?)((\\(\\d+\\))?.jpg)')\n",
    "\n",
    "# TODO, HACK: Contact wikiarts team to get an API method for this...\n",
    "special_cases = {\n",
    "    'https://wikiart.org/en/vincent-van-gogh/the-starry-night': 'https://www.wikiart.org/en/vincent-van-gogh/the-starry-night-1889',\n",
    "    'https://wikiart.org/en/gustav-klimt/portrait-of-adele-bloch-bauer-i': 'https://www.wikiart.org/en/gustav-klimt/portrait-of-adele-bloch-bauer-i-1907-1',\n",
    "    'https://wikiart.org/en/pieter-bruegel-the-elder/fight-between-carnival-and-lent-1559': 'https://www.wikiart.org/en/pieter-bruegel-the-elder/the-fight-between-carnival-and-lent-1559-1',\n",
    "    'https://wikiart.org/en/pieter-bruegel-the-elder/the-triumph-of-death': 'https://www.wikiart.org/en/pieter-bruegel-the-elder/the-triumph-of-death-1562-1',\n",
    "    'https://wikiart.org/en/edouard-manet/music-in-the-tuileries-gardens-1862': 'https://www.wikiart.org/en/edouard-manet/music-in-the-tuileries-garden-1862-1',\n",
    "    'https://wikiart.org/en/gustav-klimt/the-beethoven-frieze-the-hostile-powers-far-wall': 'https://www.wikiart.org/en/gustav-klimt/the-beethoven-frieze-the-hostile-powers-far-wall-1902-1',\n",
    "    'https://wikiart.org/en/gustav-klimt/the-beethoven-frieze-the-longing-for-happiness-finds-repose-in-poetry-right-wall-1': 'https://www.wikiart.org/en/gustav-klimt/the-beethoven-frieze-the-longing-for-happiness-finds-repose-in-poetry-right-wall-1902-1',\n",
    "    'https://wikiart.org/en/honore-daumier/gargantua': 'https://www.wikiart.org/en/honore-daumier/gargantua-1831',\n",
    "    'https://wikiart.org/en/francois-boucher/triumph-of-venus-1740': 'https://www.wikiart.org/en/francois-boucher/the-birth-and-triumph-of-venus-1740-1',\n",
    "    'https://wikiart.org/en/francisco-goya/execution-of-the-defenders-of-madrid-3rd-may-1808-1814': 'https://www.wikiart.org/en/francisco-goya/the-third-of-may-1808-execution-of-the-defenders-of-madrid-1814-1',\n",
    "    'https://wikiart.org/en/giotto/lamentation-the-mourning-of-christ': 'https://www.wikiart.org/en/giotto/lamentation-the-mourning-of-christ-1306-1'\n",
    "    \n",
    "}\n",
    "\n",
    "def get_details_url(image_url):\n",
    "    image_id = re.search(image_id_re, image_url).group('image_id')\n",
    "    details_url = 'https://wikiart.org/en/{}'.format(image_id)\n",
    "    if details_url in special_cases:\n",
    "        return special_cases[details_url]\n",
    "    return details_url\n",
    "\n",
    "images['details'] = images.image.apply(get_details_url)"
   ]
  },
  {
   "cell_type": "code",
   "execution_count": 6,
   "metadata": {
    "collapsed": false,
    "deletable": true,
    "editable": true
   },
   "outputs": [
    {
     "data": {
      "text/html": [
       "<div>\n",
       "<table border=\"1\" class=\"dataframe\">\n",
       "  <thead>\n",
       "    <tr style=\"text-align: right;\">\n",
       "      <th></th>\n",
       "      <th>artistContentId</th>\n",
       "      <th>artistName</th>\n",
       "      <th>completitionYear</th>\n",
       "      <th>contentId</th>\n",
       "      <th>image</th>\n",
       "      <th>title</th>\n",
       "      <th>details</th>\n",
       "    </tr>\n",
       "  </thead>\n",
       "  <tbody>\n",
       "    <tr>\n",
       "      <th>1</th>\n",
       "      <td>204915</td>\n",
       "      <td>Vincent van Gogh</td>\n",
       "      <td>1889</td>\n",
       "      <td>207190</td>\n",
       "      <td>https://uploads2.wikiart.org/00125/images/vinc...</td>\n",
       "      <td>The Starry Night</td>\n",
       "      <td>https://www.wikiart.org/en/vincent-van-gogh/th...</td>\n",
       "    </tr>\n",
       "    <tr>\n",
       "      <th>3</th>\n",
       "      <td>230332</td>\n",
       "      <td>Henri de Toulouse-Lautrec</td>\n",
       "      <td>1892</td>\n",
       "      <td>230453</td>\n",
       "      <td>https://uploads8.wikiart.org/images/henri-de-t...</td>\n",
       "      <td>In Bed The Kiss</td>\n",
       "      <td>https://wikiart.org/en/henri-de-toulouse-lautr...</td>\n",
       "    </tr>\n",
       "    <tr>\n",
       "      <th>4</th>\n",
       "      <td>188828</td>\n",
       "      <td>Sandro Botticelli</td>\n",
       "      <td>1485</td>\n",
       "      <td>189114</td>\n",
       "      <td>https://uploads6.wikiart.org/images/sandro-bot...</td>\n",
       "      <td>The Birth of Venus</td>\n",
       "      <td>https://wikiart.org/en/sandro-botticelli/the-b...</td>\n",
       "    </tr>\n",
       "  </tbody>\n",
       "</table>\n",
       "</div>"
      ],
      "text/plain": [
       "   artistContentId                 artistName  completitionYear  contentId  \\\n",
       "1           204915           Vincent van Gogh              1889     207190   \n",
       "3           230332  Henri de Toulouse-Lautrec              1892     230453   \n",
       "4           188828          Sandro Botticelli              1485     189114   \n",
       "\n",
       "                                               image               title  \\\n",
       "1  https://uploads2.wikiart.org/00125/images/vinc...    The Starry Night   \n",
       "3  https://uploads8.wikiart.org/images/henri-de-t...     In Bed The Kiss   \n",
       "4  https://uploads6.wikiart.org/images/sandro-bot...  The Birth of Venus   \n",
       "\n",
       "                                             details  \n",
       "1  https://www.wikiart.org/en/vincent-van-gogh/th...  \n",
       "3  https://wikiart.org/en/henri-de-toulouse-lautr...  \n",
       "4  https://wikiart.org/en/sandro-botticelli/the-b...  "
      ]
     },
     "execution_count": 6,
     "metadata": {},
     "output_type": "execute_result"
    }
   ],
   "source": [
    "# Drop unneeded columns\n",
    "images.drop('yearAsString', 1, inplace=True)\n",
    "images.drop('height', 1, inplace=True)\n",
    "images.drop('width', 1, inplace=True)\n",
    "# completitionYear gets handled as float with NaNs\n",
    "images.completitionYear = images.completitionYear.fillna(-1).astype(int)\n",
    "\n",
    "images.head(3)"
   ]
  },
  {
   "cell_type": "code",
   "execution_count": 7,
   "metadata": {
    "collapsed": false,
    "deletable": true,
    "editable": true
   },
   "outputs": [
    {
     "name": "stdout",
     "output_type": "stream",
     "text": [
      "Exportet 199 rows\n"
     ]
    }
   ],
   "source": [
    "OUT_FILE = '../server/data/images.csv'\n",
    "images.image = images.image.str.replace('!Large.jpg', '')\n",
    "images.to_csv(OUT_FILE, sep=',', encoding='utf-8', index=False)\n",
    "print('Exportet {} rows'.format(len(images.index)))"
   ]
  },
  {
   "cell_type": "code",
   "execution_count": 8,
   "metadata": {
    "collapsed": false,
    "deletable": true,
    "editable": true
   },
   "outputs": [
    {
     "name": "stdout",
     "output_type": "stream",
     "text": [
      "0\n",
      "20\n",
      "40\n",
      "60\n",
      "80\n",
      "100\n",
      "120\n",
      "140\n",
      "160\n",
      "180\n"
     ]
    }
   ],
   "source": [
    "# Check if details urls are valid\n",
    "\"\"\"\n",
    "from urllib.request import urlopen\n",
    "\n",
    "for idx, details_url in enumerate(images.details):\n",
    "    if idx % 20 == 0:\n",
    "        print(str(idx))\n",
    "    try:\n",
    "        page = urlopen(details_url)\n",
    "    except Exception as e:\n",
    "        print(e, details_url)\n",
    "\"\"\""
   ]
  }
 ],
 "metadata": {
  "kernelspec": {
   "display_name": "Python 3",
   "language": "python",
   "name": "python3"
  },
  "language_info": {
   "codemirror_mode": {
    "name": "ipython",
    "version": 3
   },
   "file_extension": ".py",
   "mimetype": "text/x-python",
   "name": "python",
   "nbconvert_exporter": "python",
   "pygments_lexer": "ipython3",
   "version": "3.6.1"
  }
 },
 "nbformat": 4,
 "nbformat_minor": 0
}
